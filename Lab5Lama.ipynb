{
  "nbformat": 4,
  "nbformat_minor": 0,
  "metadata": {
    "colab": {
      "provenance": [],
      "authorship_tag": "ABX9TyPeQEyUWSJQsqWGNxTvMHka",
      "include_colab_link": true
    },
    "kernelspec": {
      "name": "python3",
      "display_name": "Python 3"
    },
    "language_info": {
      "name": "python"
    }
  },
  "cells": [
    {
      "cell_type": "markdown",
      "metadata": {
        "id": "view-in-github",
        "colab_type": "text"
      },
      "source": [
        "<a href=\"https://colab.research.google.com/github/Lama1421f/python-lab/blob/main/Lab5Lama.ipynb\" target=\"_parent\"><img src=\"https://colab.research.google.com/assets/colab-badge.svg\" alt=\"Open In Colab\"/></a>"
      ]
    },
    {
      "cell_type": "code",
      "execution_count": 5,
      "metadata": {
        "colab": {
          "base_uri": "https://localhost:8080/"
        },
        "id": "vtoPFOGMcs48",
        "outputId": "504c2e25-3c72-4eef-f5ce-6296e9ff7ac2"
      },
      "outputs": [
        {
          "output_type": "stream",
          "name": "stdout",
          "text": [
            "Looking in indexes: https://pypi.org/simple, https://us-python.pkg.dev/colab-wheels/public/simple/\n",
            "Requirement already satisfied: nltk in /usr/local/lib/python3.7/dist-packages (3.7)\n",
            "Requirement already satisfied: regex>=2021.8.3 in /usr/local/lib/python3.7/dist-packages (from nltk) (2022.6.2)\n",
            "Requirement already satisfied: joblib in /usr/local/lib/python3.7/dist-packages (from nltk) (1.2.0)\n",
            "Requirement already satisfied: click in /usr/local/lib/python3.7/dist-packages (from nltk) (7.1.2)\n",
            "Requirement already satisfied: tqdm in /usr/local/lib/python3.7/dist-packages (from nltk) (4.64.1)\n"
          ]
        }
      ],
      "source": [
        "!pip install nltk"
      ]
    },
    {
      "cell_type": "code",
      "source": [
        "from __future__ import print_function\n",
        "from nltk.metrics import *\n",
        "Sentence1='There are many similarity measures used in NLTK package'.split()\n",
        "Sentence2='There are many similarity measures are avaliable in NLTK '.split()\n",
        "print(accuracy(Sentence1,Sentence2))\n",
        "setSentence1=set(Sentence1)\n",
        "setSentence2=set(Sentence2)\n",
        "\n",
        "precision = precision(setSentence1,setSentence2)\n",
        "recall = recall(setSentence1,setSentence2)\n",
        "\n",
        "print('precision = ',precision)\n",
        "print('recall = ',recall)\n",
        "\n",
        "f_measure = (2 * precision * recall) / (precision + recall)\n",
        "print('F-measure = ',f_measure)"
      ],
      "metadata": {
        "colab": {
          "base_uri": "https://localhost:8080/"
        },
        "id": "DZgOYPxujLyU",
        "outputId": "ae30cda5-f9d9-4a5b-dd59-723384279bb4"
      },
      "execution_count": 14,
      "outputs": [
        {
          "output_type": "stream",
          "name": "stdout",
          "text": [
            "0.5555555555555556\n",
            "precision =  0.875\n",
            "recall =  0.7777777777777778\n",
            "F-measure =  0.823529411764706\n"
          ]
        }
      ]
    },
    {
      "cell_type": "code",
      "source": [
        "\n",
        "Sentence1= \"There are many similarity measures used in NLTK package\".split()\n",
        "Sentence2= \"There are many similarity measures are  available in NLTK\".split()\n",
        "from sklearn.metrics import classification_report\n",
        "print(classification_report(Sentence1,Sentence2))"
      ],
      "metadata": {
        "colab": {
          "base_uri": "https://localhost:8080/"
        },
        "id": "pHSKhsnYiA8H",
        "outputId": "a8cfcc81-c558-49b3-cf19-752dc979348c"
      },
      "execution_count": 15,
      "outputs": [
        {
          "output_type": "stream",
          "name": "stdout",
          "text": [
            "              precision    recall  f1-score   support\n",
            "\n",
            "        NLTK       0.00      0.00      0.00         1\n",
            "       There       1.00      1.00      1.00         1\n",
            "         are       0.50      1.00      0.67         1\n",
            "   available       0.00      0.00      0.00         0\n",
            "          in       0.00      0.00      0.00         1\n",
            "        many       1.00      1.00      1.00         1\n",
            "    measures       1.00      1.00      1.00         1\n",
            "     package       0.00      0.00      0.00         1\n",
            "  similarity       1.00      1.00      1.00         1\n",
            "        used       0.00      0.00      0.00         1\n",
            "\n",
            "    accuracy                           0.56         9\n",
            "   macro avg       0.45      0.50      0.47         9\n",
            "weighted avg       0.50      0.56      0.52         9\n",
            "\n"
          ]
        },
        {
          "output_type": "stream",
          "name": "stderr",
          "text": [
            "/usr/local/lib/python3.7/dist-packages/sklearn/metrics/_classification.py:1318: UndefinedMetricWarning: Precision and F-score are ill-defined and being set to 0.0 in labels with no predicted samples. Use `zero_division` parameter to control this behavior.\n",
            "  _warn_prf(average, modifier, msg_start, len(result))\n",
            "/usr/local/lib/python3.7/dist-packages/sklearn/metrics/_classification.py:1318: UndefinedMetricWarning: Recall and F-score are ill-defined and being set to 0.0 in labels with no true samples. Use `zero_division` parameter to control this behavior.\n",
            "  _warn_prf(average, modifier, msg_start, len(result))\n",
            "/usr/local/lib/python3.7/dist-packages/sklearn/metrics/_classification.py:1318: UndefinedMetricWarning: Precision and F-score are ill-defined and being set to 0.0 in labels with no predicted samples. Use `zero_division` parameter to control this behavior.\n",
            "  _warn_prf(average, modifier, msg_start, len(result))\n",
            "/usr/local/lib/python3.7/dist-packages/sklearn/metrics/_classification.py:1318: UndefinedMetricWarning: Recall and F-score are ill-defined and being set to 0.0 in labels with no true samples. Use `zero_division` parameter to control this behavior.\n",
            "  _warn_prf(average, modifier, msg_start, len(result))\n",
            "/usr/local/lib/python3.7/dist-packages/sklearn/metrics/_classification.py:1318: UndefinedMetricWarning: Precision and F-score are ill-defined and being set to 0.0 in labels with no predicted samples. Use `zero_division` parameter to control this behavior.\n",
            "  _warn_prf(average, modifier, msg_start, len(result))\n",
            "/usr/local/lib/python3.7/dist-packages/sklearn/metrics/_classification.py:1318: UndefinedMetricWarning: Recall and F-score are ill-defined and being set to 0.0 in labels with no true samples. Use `zero_division` parameter to control this behavior.\n",
            "  _warn_prf(average, modifier, msg_start, len(result))\n"
          ]
        }
      ]
    },
    {
      "cell_type": "code",
      "source": [
        "import pandas as pd \n",
        "import seaborn as sb\n",
        "import matplotlib.pyplot as plt\n",
        "from sklearn.metrics import confusion_matrix\n",
        "col1=set(Sentence1)\n",
        "col2=set(Sentence2)\n",
        "dic= col1.union(col2)\n",
        "array = confusion_matrix(Sentence1,Sentence2)\n",
        "\n",
        "df=pd.DataFrame(array,index=dic,columns=dic)\n",
        "df\n",
        "\n",
        "plt.figure(figsize = (10,7)) \n",
        "sb.heatmap(df, annot=True, annot_kws={\"size\": 16})"
      ],
      "metadata": {
        "colab": {
          "base_uri": "https://localhost:8080/",
          "height": 450
        },
        "id": "iLx7G9dRmX3I",
        "outputId": "590570aa-6419-4400-eabd-4cffe7c1c274"
      },
      "execution_count": 19,
      "outputs": [
        {
          "output_type": "execute_result",
          "data": {
            "text/plain": [
              "<matplotlib.axes._subplots.AxesSubplot at 0x7f6d3266ef10>"
            ]
          },
          "metadata": {},
          "execution_count": 19
        },
        {
          "output_type": "display_data",
          "data": {
            "text/plain": [
              "<Figure size 720x504 with 2 Axes>"
            ],
            "image/png": "[encoded data removed]"
          },
          "metadata": {
            "needs_background": "light"
          }
        }
      ]
    },
    {
      "cell_type": "code",
      "source": [
        "from __future__ import print_function\n",
        "def _edit_distance_init(len1,len2):\n",
        " lev=[]\n",
        " for i in range(len1):\n",
        "  lev.append([0]*len2)\n",
        " for i in range(len1):\n",
        "  lev[i][0]=i\n",
        " for j in range (len2):\n",
        "   lev[0][j]=j\n",
        " return lev\n",
        "\n"
      ],
      "metadata": {
        "id": "vZuydWdsotac"
      },
      "execution_count": 25,
      "outputs": []
    },
    {
      "cell_type": "code",
      "source": [
        "def _edit_dist_stop(lev,i,j,s1,s2,last_left,last_right,substitution_cost=1,transpositions=False):\n",
        "\n",
        "  c1=s1[i-1]\n",
        "  c2=s2[j-1]\n",
        "  \n",
        "  a=lev[i-1][j]+1\n",
        "  b=lev[i][j-1]+1\n",
        "  c=lev[i-1][j-1]+(substitution_cost if c1 !=c2 else 0)\n",
        "  d=c+1\n",
        "  if transpositions and last_left > 0 and last_right > 0:\n",
        "    d=lev[last_left-1][last_right-1]+i-last_left+ j - last_right-1\n",
        "  lev[i][j]= min(a,b,c,d)"
      ],
      "metadata": {
        "id": "C2AHO0-dub75"
      },
      "execution_count": 26,
      "outputs": []
    },
    {
      "cell_type": "code",
      "source": [
        "def edit_distance(s1,s2,transpositions=False):\n",
        "  len1 = len(s1)\n",
        "  len2 = len(s2)\n",
        "  lev = _edit_distance_init(len1+1,len2+1)\n",
        "\n",
        "  for i in range(len1):\n",
        "    for j in range(len2):\n",
        "      _edit_dist_step(lev,i+1,j+1,s1,s2,transpositions=transpositions)\n",
        "  return lev[len1][len2]"
      ],
      "metadata": {
        "id": "lRG4D1fo0-JV"
      },
      "execution_count": 28,
      "outputs": []
    },
    {
      "cell_type": "code",
      "source": [
        "from nltk.metrics import *\n",
        "edit_distance(\"relate\",\"relation\")"
      ],
      "metadata": {
        "colab": {
          "base_uri": "https://localhost:8080/"
        },
        "id": "qjmumqYG2jIM",
        "outputId": "aed69d38-7f86-491c-830f-ccb2b758bfd2"
      },
      "execution_count": 29,
      "outputs": [
        {
          "output_type": "execute_result",
          "data": {
            "text/plain": [
              "3"
            ]
          },
          "metadata": {},
          "execution_count": 29
        }
      ]
    },
    {
      "cell_type": "code",
      "source": [
        "import nltk \n",
        "from nltk.metrics import * \n",
        "X=set(Sentence1) \n",
        "Y=set(Sentence2)\n",
        "def jacc_similarity(query, document): \n",
        " first=set(query).intersection(set(document)) \n",
        " second=set(query).union(set(document)) \n",
        " return len(first)/len(second)\n",
        "   \n",
        "print(jaccard_distance(X,Y)) \n"
      ],
      "metadata": {
        "colab": {
          "base_uri": "https://localhost:8080/"
        },
        "id": "s-1-zRkvraum",
        "outputId": "0fa10d3c-8630-4568-f5be-b36339982fda"
      },
      "execution_count": 21,
      "outputs": [
        {
          "output_type": "stream",
          "name": "stdout",
          "text": [
            "0.3\n"
          ]
        }
      ]
    },
    {
      "cell_type": "code",
      "source": [
        "import nltk \n",
        "from nltk.metrics import * \n",
        "X=set(Sentence1) \n",
        "Y=set(Sentence2)\n",
        "def binary_distance(label1, label2): \n",
        " return 0.0 if label1 == label2 else 1.0\n",
        " \n",
        "binary_distance(X, Y) "
      ],
      "metadata": {
        "colab": {
          "base_uri": "https://localhost:8080/"
        },
        "id": "TQhNrbq_sjpy",
        "outputId": "6f7ed4bd-c4df-46c8-e2a0-4a89905f932c"
      },
      "execution_count": 22,
      "outputs": [
        {
          "output_type": "execute_result",
          "data": {
            "text/plain": [
              "1.0"
            ]
          },
          "metadata": {},
          "execution_count": 22
        }
      ]
    },
    {
      "cell_type": "code",
      "source": [
        "def masi(label1, label2): \n",
        " len_intersection = len(label1.intersection(label2)) \n",
        " len_union = len(label1.union(label2)) \n",
        " len_label1 = len(label1) \n",
        " len_label2 = len(label2) \n",
        "\n",
        " if len_label1 == len_label2 and len_label1 == len_intersection: m = 1\n",
        " elif len_intersection == min(len_label1, len_label2): m = 0.67\n",
        " elif len_intersection > 0: m = 0.33\n",
        " else: m = 0\n",
        " return 1 - (len_intersection / float(len_union)) * m \n",
        "X=set([10,20,30,40]) \n",
        "Y=set([30,50,70]) \n",
        "masi(X, Y) "
      ],
      "metadata": {
        "colab": {
          "base_uri": "https://localhost:8080/"
        },
        "id": "7uqi9Q8lsz1j",
        "outputId": "38a41ccc-3458-4462-a6e4-de63b4c2b4ac"
      },
      "execution_count": 23,
      "outputs": [
        {
          "output_type": "execute_result",
          "data": {
            "text/plain": [
              "0.945"
            ]
          },
          "metadata": {},
          "execution_count": 23
        }
      ]
    }
  ]
}