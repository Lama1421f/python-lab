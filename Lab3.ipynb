{
  "nbformat": 4,
  "nbformat_minor": 0,
  "metadata": {
    "colab": {
      "provenance": [],
      "collapsed_sections": [],
      "authorship_tag": "ABX9TyNHciuidNwwLFd6ytQHlXYM",
      "include_colab_link": true
    },
    "kernelspec": {
      "name": "python3",
      "display_name": "Python 3"
    },
    "language_info": {
      "name": "python"
    }
  },
  "cells": [
    {
      "cell_type": "markdown",
      "metadata": {
        "id": "view-in-github",
        "colab_type": "text"
      },
      "source": [
        "<a href=\"https://colab.research.google.com/github/Lama1421f/python-lab/blob/main/Lab3.ipynb\" target=\"_parent\"><img src=\"https://colab.research.google.com/assets/colab-badge.svg\" alt=\"Open In Colab\"/></a>"
      ]
    },
    {
      "cell_type": "code",
      "execution_count": null,
      "metadata": {
        "id": "JeZgkn7OUfR2"
      },
      "outputs": [],
      "source": [
        "import re\n",
        "\n",
        "txt = \"The rain in Spain\"\n",
        "x = re.search(\"^The.*Spain$\", txt) "
      ]
    },
    {
      "cell_type": "code",
      "source": [
        "xt = \"The rain in Spain\"\n",
        "\n",
        "#Find all lower case characters alphabetically between \"a\" and \"m\":\n",
        "\n",
        "x = re.findall(\"[a-m]\", txt)\n",
        "print(x)\n"
      ],
      "metadata": {
        "colab": {
          "base_uri": "https://localhost:8080/"
        },
        "id": "NSRQcLRKUnkm",
        "outputId": "e224bc25-56a9-4590-b0a0-afbd2319d82b"
      },
      "execution_count": null,
      "outputs": [
        {
          "output_type": "stream",
          "name": "stdout",
          "text": [
            "['h', 'e', 'a', 'i', 'i', 'a', 'i']\n"
          ]
        }
      ]
    },
    {
      "cell_type": "code",
      "source": [
        "\n",
        "txt = \"That will be 59 dollars\"\n",
        "\n",
        "#Find all digit characters:\n",
        "\n",
        "x = re.findall(\"\\d\", txt)\n",
        "print(x)\n"
      ],
      "metadata": {
        "colab": {
          "base_uri": "https://localhost:8080/"
        },
        "id": "sl9DYnnJUt__",
        "outputId": "98826fe9-e982-4b34-c9b6-82b7304d1f80"
      },
      "execution_count": null,
      "outputs": [
        {
          "output_type": "stream",
          "name": "stdout",
          "text": [
            "['5', '9']\n"
          ]
        }
      ]
    },
    {
      "cell_type": "code",
      "source": [
        "txt = \"hello planet\"\n",
        "\n",
        "#Search for a sequence that starts with \"he\", followed by two (any) characters, and an \"o\":\n",
        "\n",
        "x = re.findall(\"he..o\", txt)\n",
        "print(x)\n"
      ],
      "metadata": {
        "colab": {
          "base_uri": "https://localhost:8080/"
        },
        "id": "_Z1IdVlaU2aU",
        "outputId": "e8c127a9-e0a7-4585-cf7f-eb04f7887ca2"
      },
      "execution_count": null,
      "outputs": [
        {
          "output_type": "stream",
          "name": "stdout",
          "text": [
            "['hello']\n"
          ]
        }
      ]
    },
    {
      "cell_type": "code",
      "source": [
        "txt = \"hello planet\"\n",
        "\n",
        "#Check if the string starts with 'hello':\n",
        "\n",
        "x = re.findall(\"^hello\", txt)\n",
        "if x:\n",
        "  print(\"Yes, the string starts with 'hello'\")\n",
        "else:\n",
        "  print(\"No match\")\n"
      ],
      "metadata": {
        "colab": {
          "base_uri": "https://localhost:8080/"
        },
        "id": "jgU7DZ6qU6cL",
        "outputId": "9e16a0ac-08a9-46ec-e580-fd3e16056993"
      },
      "execution_count": null,
      "outputs": [
        {
          "output_type": "stream",
          "name": "stdout",
          "text": [
            "Yes, the string starts with 'hello'\n"
          ]
        }
      ]
    },
    {
      "cell_type": "code",
      "source": [
        "txt = \"hello planet\"\n",
        "\n",
        "#Check if the string ends with 'planet':\n",
        "\n",
        "x = re.findall(\"planet$\", txt)\n",
        "if x:\n",
        "  print(\"Yes, the string ends with 'planet'\")\n",
        "else:\n",
        "  print(\"No match\")\n"
      ],
      "metadata": {
        "colab": {
          "base_uri": "https://localhost:8080/"
        },
        "id": "Tw9InkugVQQF",
        "outputId": "20caf4d2-3d32-43b5-e1df-a1ff2c854bbc"
      },
      "execution_count": null,
      "outputs": [
        {
          "output_type": "stream",
          "name": "stdout",
          "text": [
            "Yes, the string ends with 'planet'\n"
          ]
        }
      ]
    },
    {
      "cell_type": "code",
      "source": [
        "txt = \"hello planet\"\n",
        "\n",
        "#Search for a sequence that starts with \"he\", followed by 0 or more  (any) characters, and an \"o\":\n",
        "\n",
        "x = re.findall(\"he.*o\", txt)\n",
        "\n",
        "print(x)\n"
      ],
      "metadata": {
        "colab": {
          "base_uri": "https://localhost:8080/"
        },
        "id": "rOCkgH5SVfyb",
        "outputId": "df1264fb-1f5a-408e-f9ae-cc5dcb029973"
      },
      "execution_count": null,
      "outputs": [
        {
          "output_type": "stream",
          "name": "stdout",
          "text": [
            "['hello']\n"
          ]
        }
      ]
    },
    {
      "cell_type": "code",
      "source": [
        "txt = \"hello planet\"\n",
        "\n",
        "#Search for a sequence that starts with \"he\", followed by 1 or more  (any) characters, and an \"o\":\n",
        "\n",
        "x = re.findall(\"he.+o\", txt)\n",
        "\n",
        "print(x)\n"
      ],
      "metadata": {
        "colab": {
          "base_uri": "https://localhost:8080/"
        },
        "id": "saKmz3aMVipP",
        "outputId": "b3352dff-9e07-46ae-8385-d6fd7bdb6650"
      },
      "execution_count": null,
      "outputs": [
        {
          "output_type": "stream",
          "name": "stdout",
          "text": [
            "['hello']\n"
          ]
        }
      ]
    },
    {
      "cell_type": "code",
      "source": [
        "txt = \"hello planet\"\n",
        "\n",
        "#Search for a sequence that starts with \"he\", followed by 0 or 1  (any) character, and an \"o\":\n",
        "\n",
        "x = re.findall(\"he.?o\", txt)\n",
        "\n",
        "print(x)\n",
        "\n",
        "#This time we got no match, because there were not zero, not one, but two characters between \"he\" and the \"o\"\n",
        "\n"
      ],
      "metadata": {
        "colab": {
          "base_uri": "https://localhost:8080/"
        },
        "id": "Zy8vWCygVxtX",
        "outputId": "f57d8061-ad99-44b7-8f66-cafd8032993f"
      },
      "execution_count": null,
      "outputs": [
        {
          "output_type": "stream",
          "name": "stdout",
          "text": [
            "[]\n"
          ]
        }
      ]
    },
    {
      "cell_type": "code",
      "source": [
        "txt = \"hello planet\"\n",
        "\n",
        "#Search for a sequence that starts with \"he\", followed excactly 2 (any) characters, and an \"o\":\n",
        "\n",
        "x = re.findall(\"he.{2}o\", txt)\n",
        "\n",
        "print(x)"
      ],
      "metadata": {
        "colab": {
          "base_uri": "https://localhost:8080/"
        },
        "id": "xDPQYDy6V4wf",
        "outputId": "10299bc4-ae2a-4d57-b742-c17c9d536413"
      },
      "execution_count": null,
      "outputs": [
        {
          "output_type": "stream",
          "name": "stdout",
          "text": [
            "['hello']\n"
          ]
        }
      ]
    },
    {
      "cell_type": "code",
      "source": [
        "txt = \"The rain in Spain falls mainly in the plain!\"\n",
        "\n",
        "#Check if the string contains either \"falls\" or \"stays\":\n",
        "\n",
        "x = re.findall(\"falls|stays\", txt)\n",
        "\n",
        "print(x)\n",
        "\n",
        "if x:\n",
        "  print(\"Yes, there is at least one match!\")\n",
        "else:\n",
        "  print(\"No match\")\n"
      ],
      "metadata": {
        "colab": {
          "base_uri": "https://localhost:8080/"
        },
        "id": "0eZJTxSiWGjm",
        "outputId": "1d14bbb9-b214-4302-976a-126d39bfafa5"
      },
      "execution_count": null,
      "outputs": [
        {
          "output_type": "stream",
          "name": "stdout",
          "text": [
            "['falls']\n",
            "Yes, there is at least one match!\n"
          ]
        }
      ]
    },
    {
      "cell_type": "code",
      "source": [
        "txt = \"The rain in Spain\"\n",
        "\n",
        "#Check if the string starts with \"The\":\n",
        "\n",
        "x = re.findall(\"\\AThe\", txt)\n",
        "\n",
        "print(x)\n",
        "\n",
        "if x:\n",
        "  print(\"Yes, there is a match!\")\n",
        "else:\n",
        "  print(\"No match\")\n"
      ],
      "metadata": {
        "colab": {
          "base_uri": "https://localhost:8080/"
        },
        "id": "bb7q-FzdWb-r",
        "outputId": "756785b4-5de2-4337-86bb-9662f6adccc7"
      },
      "execution_count": null,
      "outputs": [
        {
          "output_type": "stream",
          "name": "stdout",
          "text": [
            "['The']\n",
            "Yes, there is a match!\n"
          ]
        }
      ]
    },
    {
      "cell_type": "code",
      "source": [
        "txt='Regular expression is a sequence of character(s) mainly used to find and replace patterns in a string or file'\n",
        "\n",
        "\n",
        "x = re.search(\"^Regular.*file$\", txt) \n",
        "if x:\n",
        "  print(\"YES! We have a match!\")\n",
        "else:\n",
        "  print(\"No match\")\n"
      ],
      "metadata": {
        "colab": {
          "base_uri": "https://localhost:8080/"
        },
        "id": "KhjsW0s-WcHy",
        "outputId": "383f24cc-0c2e-47d2-e946-01e31fe06a01"
      },
      "execution_count": null,
      "outputs": [
        {
          "output_type": "stream",
          "name": "stdout",
          "text": [
            "YES! We have a match!\n"
          ]
        }
      ]
    },
    {
      "cell_type": "code",
      "source": [
        "replacement_patterns = [\n",
        "(r'won\\'t', 'will not'),\n",
        "(r'can\\'t', 'cannot'),\n",
        "(r'i\\'m', 'i am'),\n",
        "(r'ain\\'t', 'is not'),\n",
        "(r'(\\w+)\\'ll', '\\g<1> will'),\n",
        "(r'(\\w+)n\\'t', '\\g<1> not'),\n",
        "(r'(\\w+)\\'ve', '\\g<1> have'),\n",
        "(r'(\\w+)\\'s', '\\g<1> is'),\n",
        "(r'(\\w+)\\'re', '\\g<1> are'),\n",
        "(r'(\\w+)\\'d', '\\g<1> would')] \n"
      ],
      "metadata": {
        "id": "U2Nd1yXlZ4ZB"
      },
      "execution_count": null,
      "outputs": []
    },
    {
      "cell_type": "code",
      "source": [
        "txt=\"We'll see how to replace words using regular expressions such doesn't, can’t and so on\"\n",
        "class RegexpReplacer(object):\n",
        "  def __init__(self, patterns=replacement_patterns):\n",
        "    self.patterns = [(re.compile(regex), repl) for (regex, repl)in patterns]\n",
        "  def replace(self, text):\n",
        "     s = text\n",
        "     for (pattern, repl) in self.patterns:\n",
        "       (s, count) = re.subn(pattern, repl, s)\n",
        "     return s \n",
        "replac= RegexpReplacer()\n",
        "print(replac.replace(txt))"
      ],
      "metadata": {
        "colab": {
          "base_uri": "https://localhost:8080/"
        },
        "id": "X8sK9nf-Z7YN",
        "outputId": "31ba392f-4b43-4de5-ab7a-7a76f5f30b31"
      },
      "execution_count": null,
      "outputs": [
        {
          "output_type": "stream",
          "name": "stdout",
          "text": [
            "We will see how to replace words using regular expressions such does not, can’t and so on\n"
          ]
        }
      ]
    },
    {
      "cell_type": "code",
      "source": [
        "class RepeatReplacer(object):\n",
        "   def __init__(self):\n",
        "    self.repeat_regexp = re.compile(r'(\\w*)(\\w)\\2(\\w*)')\n",
        "    self.repl = r'\\1\\2\\3'\n",
        "   def replace(self, word):\n",
        "     repl_word = self.repeat_regexp.sub(self.repl, word)\n",
        "     if repl_word != word:\n",
        "       return self.replace(repl_word)\n",
        "     else:\n",
        "       return repl_word\n",
        "replacer=RepeatReplacer()\n",
        "Sentence = \"We likkkkkke python\" \n",
        "print(replacer.replace(Sentence))"
      ],
      "metadata": {
        "colab": {
          "base_uri": "https://localhost:8080/"
        },
        "id": "c5ySV_G7dCz1",
        "outputId": "4798c18e-6567-4104-ff38-237d9417ac58"
      },
      "execution_count": null,
      "outputs": [
        {
          "output_type": "stream",
          "name": "stdout",
          "text": [
            "We like python\n"
          ]
        }
      ]
    }
  ]
}